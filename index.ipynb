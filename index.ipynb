<<<<<<< HEAD
{"cells": [{"attachments": {}, "cell_type": "markdown", "metadata": {}, "source": ["# Website A/B Testing - Lab\n", "\n", "## Introduction\n", "\n", "In this lab, you'll get another chance to practice your skills at conducting a full A/B test analysis. It will also be a chance to practice your data exploration and processing skills! The scenario you'll be investigating is data collected from the homepage of a music app page for audacity.\n", "\n", "## Objectives\n", "\n", "You will be able to:\n", "* Analyze the data from a website A/B test to draw relevant conclusions\n", "* Explore and analyze web action data"]}, {"attachments": {}, "cell_type": "markdown", "metadata": {}, "source": ["## Exploratory Analysis\n", "\n", "Start by loading in the dataset stored in the file 'homepage_actions.csv'. Then conduct an exploratory analysis to get familiar with the data."]}, {"attachments": {}, "cell_type": "markdown", "metadata": {}, "source": ["> Hints:\n", "    * Start investigating the id column:\n", "        * How many viewers also clicked?\n", "        * Are there any anomalies with the data; did anyone click who didn't view?\n", "        * Is there any overlap between the control and experiment groups? \n", "            * If so, how do you plan to account for this in your experimental design?"]}, {"cell_type": "code", "execution_count": null, "metadata": {}, "outputs": [], "source": ["#Your code here"]}, {"attachments": {}, "cell_type": "markdown", "metadata": {}, "source": ["## Conduct a Statistical Test\n", "\n", "Conduct a statistical test to determine whether the experimental homepage was more effective than that of the control group."]}, {"cell_type": "code", "execution_count": null, "metadata": {}, "outputs": [], "source": ["#Your code here"]}, {"attachments": {}, "cell_type": "markdown", "metadata": {}, "source": ["## Verifying Results\n", "\n", "One sensible formulation of the data to answer the hypothesis test above would be to create a binary variable representing each individual in the experiment and control group. This binary variable would represent whether or not that individual clicked on the homepage; 1 for they did and 0 if they did not. \n", "\n", "The variance for the number of successes in a sample of a binomial variable with n observations is given by:\n", "\n", "## $n\\bullet p (1-p)$\n", "\n", "Given this, perform 3 steps to verify the results of your statistical test:\n", "1. Calculate the expected number of clicks for the experiment group, if it had the same click-through rate as that of the control group. \n", "2. Calculate the number of standard deviations that the actual number of clicks was from this estimate. \n", "3. Finally, calculate a p-value using the normal distribution based on this z-score."]}, {"attachments": {}, "cell_type": "markdown", "metadata": {}, "source": ["### Step 1:\n", "Calculate the expected number of clicks for the experiment group, if it had the same click-through rate as that of the control group. "]}, {"cell_type": "code", "execution_count": null, "metadata": {}, "outputs": [], "source": ["#Your code here"]}, {"attachments": {}, "cell_type": "markdown", "metadata": {}, "source": ["### Step 2:\n", "Calculate the number of standard deviations that the actual number of clicks was from this estimate."]}, {"cell_type": "code", "execution_count": null, "metadata": {}, "outputs": [], "source": ["#Your code here"]}, {"attachments": {}, "cell_type": "markdown", "metadata": {}, "source": ["### Step 3: \n", "Finally, calculate a p-value using the normal distribution based on this z-score."]}, {"cell_type": "code", "execution_count": null, "metadata": {}, "outputs": [], "source": ["#Your code here"]}, {"attachments": {}, "cell_type": "markdown", "metadata": {}, "source": ["### Analysis:\n", "\n", "Does this result roughly match that of the previous statistical test?\n", "\n", "> Comment: **Your analysis here**"]}, {"attachments": {}, "cell_type": "markdown", "metadata": {}, "source": ["## Summary\n", "\n", "In this lab, you continued to get more practice designing and conducting AB tests. This required additional work preprocessing and formulating the initial problem in a suitable manner. Additionally, you also saw how to verify results, strengthening your knowledge of binomial variables, and reviewing initial statistical concepts of the central limit theorem, standard deviation, z-scores, and their accompanying p-values."]}], "metadata": {"kernelspec": {"display_name": "Python 3", "language": "python", "name": "python3"}, "language_info": {"codemirror_mode": {"name": "ipython", "version": 3}, "file_extension": ".py", "mimetype": "text/x-python", "name": "python", "nbconvert_exporter": "python", "pygments_lexer": "ipython3", "version": "3.6.6"}}, "nbformat": 4, "nbformat_minor": 2}
=======
{
 "cells": [
  {
   "cell_type": "markdown",
   "metadata": {},
   "source": [
    "# Website A/B Testing - Lab\n",
    "\n",
    "## Introduction\n",
    "\n",
    "In this lab, you'll get another chance to practice your skills at conducting a full A/B test analysis. It will also be a chance to practice your data exploration and processing skills! The scenario you'll be investigating is data collected from the homepage of a music app page for audacity.\n",
    "\n",
    "## Objectives\n",
    "\n",
    "You will be able to:\n",
    "* Analyze the data from a website A/B test to draw relevant conclusions\n",
    "* Explore and analyze web action data"
   ]
  },
  {
   "cell_type": "markdown",
   "metadata": {},
   "source": [
    "## Exploratory Analysis\n",
    "\n",
    "Start by loading in the dataset stored in the file 'homepage_actions.csv'. Then conduct an exploratory analysis to get familiar with the data."
   ]
  },
  {
   "cell_type": "markdown",
   "metadata": {},
   "source": [
    "> Hints:\n",
    "    * Start investigating the id column:\n",
    "        * How many viewers also clicked?\n",
    "        * Are there any anomalies with the data; did anyone click who didn't view?\n",
    "        * Is there any overlap between the control and experiment groups? \n",
    "            * If so, how do you plan to account for this in your experimental design?"
   ]
  },
  {
   "cell_type": "code",
   "execution_count": 26,
   "metadata": {},
   "outputs": [
    {
     "name": "stdout",
     "output_type": "stream",
     "text": [
      "duplicates: 0       False\n",
      "1       False\n",
      "2       False\n",
      "3       False\n",
      "4       False\n",
      "        ...  \n",
      "8183    False\n",
      "8184    False\n",
      "8185    False\n",
      "8186    False\n",
      "8187    False\n",
      "Length: 8188, dtype: bool\n",
      "missing_values:       timestamp     id  group  action\n",
      "0         False  False  False   False\n",
      "1         False  False  False   False\n",
      "2         False  False  False   False\n",
      "3         False  False  False   False\n",
      "4         False  False  False   False\n",
      "...         ...    ...    ...     ...\n",
      "8183      False  False  False   False\n",
      "8184      False  False  False   False\n",
      "8185      False  False  False   False\n",
      "8186      False  False  False   False\n",
      "8187      False  False  False   False\n",
      "\n",
      "[8188 rows x 4 columns]\n",
      "People who clicked and viewed: 1860\n",
      "people who clicked without viewing: 4468\n",
      "Overlap between the control and experiment: Empty DataFrame\n",
      "Columns: [timestamp_x, id_x, group, action_x, timestamp_y, id_y, action_y]\n",
      "Index: []\n"
     ]
    }
   ],
   "source": [
    "#Your code here\n",
    "\"\"\"\n",
    "1860 people clicked\n",
    "\"\"\"\n",
    "import pandas as pd\n",
    "df = pd.read_csv(\"homepage_actions.csv\")\n",
    "df.loc[df[\"action\"] == \"click\"]\n",
    "\n",
    "#To check for missing values\n",
    "duplicates = df.duplicated()\n",
    "print(\"duplicates:\", duplicates)\n",
    "\n",
    "#To check for missing values\n",
    "missing_values = df.isna()\n",
    "print(\"missing_values:\", missing_values)\n",
    "\n",
    "# People who clicked and viewed\n",
    "viewers = df.loc[df[\"action\"] == \"view\"][\"id\"].unique()\n",
    "clickers = df.loc[df[\"action\"] == \"click\"][\"id\"].unique()\n",
    "viewers_and_clickers = len(set(viewers) & set(clickers))\n",
    "print(\"People who clicked and viewed:\", viewers_and_clickers)\n",
    "\n",
    "# people who clicked without viewing\n",
    "clickers_without_viewing = len(set(viewers) - set(clickers))\n",
    "print(\"people who clicked without viewing:\", clickers_without_viewing)\n",
    "\n",
    "# To check if there is any overlap\n",
    "set1 = df.loc[df[\"group\"] == \"control\"]\n",
    "set2 = df.loc[df[\"group\"] == \"experiment\"]\n",
    "overlap = pd.merge(set1, set2, on = \"group\")\n",
    "print(\"Overlap between the control and experiment:\", overlap)"
   ]
  },
  {
   "cell_type": "markdown",
   "metadata": {},
   "source": [
    "## Conduct a Statistical Test\n",
    "\n",
    "Conduct a statistical test to determine whether the experimental homepage was more effective than that of the control group."
   ]
  },
  {
   "cell_type": "code",
   "execution_count": 46,
   "metadata": {},
   "outputs": [
    {
     "name": "stdout",
     "output_type": "stream",
     "text": [
      "T-statistic: -1.9334751824865355\n",
      "P-value: 0.9733939379091626\n"
     ]
    }
   ],
   "source": [
    "import scipy.stats as stats\n",
    "\n",
    "control_group = df[df[\"group\"] == \"control\"][\"action\"]\n",
    "experimental_group = df[df[\"group\"] == \"experiment\"][\"action\"]\n",
    "\n",
    "control_clicks = np.where(control_group == \"click\", 1, 0)\n",
    "experimental_clicks = np.where(experimental_group == \"click\", 1, 0)\n",
    "\n",
    "# Perform two-sample t-test\n",
    "t_statistic, p_value = stats.ttest_ind(control_clicks, experimental_clicks, alternative=\"greater\")\n",
    "\n",
    "# Print the results\n",
    "print(\"T-statistic:\", t_statistic)\n",
    "print(\"P-value:\", p_value)"
   ]
  },
  {
   "cell_type": "markdown",
   "metadata": {},
   "source": [
    "## Verifying Results\n",
    "\n",
    "One sensible formulation of the data to answer the hypothesis test above would be to create a binary variable representing each individual in the experiment and control group. This binary variable would represent whether or not that individual clicked on the homepage; 1 for they did and 0 if they did not. \n",
    "\n",
    "The variance for the number of successes in a sample of a binomial variable with n observations is given by:\n",
    "\n",
    "## $n\\bullet p (1-p)$\n",
    "\n",
    "Given this, perform 3 steps to verify the results of your statistical test:\n",
    "1. Calculate the expected number of clicks for the experiment group, if it had the same click-through rate as that of the control group. \n",
    "2. Calculate the number of standard deviations that the actual number of clicks was from this estimate. \n",
    "3. Finally, calculate a p-value using the normal distribution based on this z-score."
   ]
  },
  {
   "cell_type": "markdown",
   "metadata": {},
   "source": [
    "### Step 1:\n",
    "Calculate the expected number of clicks for the experiment group, if it had the same click-through rate as that of the control group. "
   ]
  },
  {
   "cell_type": "code",
   "execution_count": 53,
   "metadata": {},
   "outputs": [
    {
     "data": {
      "text/plain": [
       "857.6848030018762"
      ]
     },
     "execution_count": 53,
     "metadata": {},
     "output_type": "execute_result"
    }
   ],
   "source": [
    "#Your code here\n",
    "#Expected Clicks (Experiment) = Click-through Rate (Control) * Total Observations (Experiment)\n",
    "control_group = df.loc[df[\"group\"] == \"control\"][\"action\"]\n",
    "experimental_group = df.loc[df[\"group\"] == \"experiment\"][\"action\"]\n",
    "\n",
    "clicks_for_control = np.where(control_group == \"click\", 1, 0)\n",
    "clicks_control = clicks_for_control.mean()\n",
    "\n",
    "total_experiment_group = len(experimental_group)\n",
    "\n",
    "expected_clicks_experiment = clicks_control * total_experiment_group\n",
    "expected_clicks_experiment "
   ]
  },
  {
   "cell_type": "markdown",
   "metadata": {},
   "source": [
    "### Step 2:\n",
    "Calculate the number of standard deviations that the actual number of clicks was from this estimate."
   ]
  },
  {
   "cell_type": "code",
   "execution_count": 56,
   "metadata": {},
   "outputs": [
    {
     "name": "stdout",
     "output_type": "stream",
     "text": [
      "Number of Standard Deviations: 2.4009622973163562\n"
     ]
    }
   ],
   "source": [
    "#Your code here\n",
    "#z_score = (observations - mean) / (sqrt(n))\n",
    "\n",
    "actual_clicks_experiment = experimental_group[experimental_group == \"click\"].shape[0]\n",
    "\n",
    "# Calculate the z-score\n",
    "z_score = (actual_clicks_experiment - expected_clicks_experiment) / np.sqrt(expected_clicks_experiment)\n",
    "\n",
    "# Print the result\n",
    "print(\"Number of Standard Deviations:\", z_score)"
   ]
  },
  {
   "cell_type": "markdown",
   "metadata": {},
   "source": [
    "### Step 3: \n",
    "Finally, calculate a p-value using the normal distribution based on this z-score."
   ]
  },
  {
   "cell_type": "code",
   "execution_count": 57,
   "metadata": {},
   "outputs": [
    {
     "name": "stdout",
     "output_type": "stream",
     "text": [
      "P-value: 0.016352021195202848\n"
     ]
    }
   ],
   "source": [
    "#Your code here\n",
    "# Calculate the p-value\n",
    "p_value = 2 * (1 - stats.norm.cdf(np.abs(z_score)))\n",
    "\n",
    "# Print the p-value\n",
    "print(\"P-value:\", p_value)"
   ]
  },
  {
   "cell_type": "markdown",
   "metadata": {},
   "source": [
    "### Analysis:\n",
    "\n",
    "Does this result roughly match that of the previous statistical test?\n",
    "\n",
    "> Comment: **Your analysis here**"
   ]
  },
  {
   "cell_type": "markdown",
   "metadata": {},
   "source": [
    "## Summary\n",
    "\n",
    "In this lab, you continued to get more practice designing and conducting AB tests. This required additional work preprocessing and formulating the initial problem in a suitable manner. Additionally, you also saw how to verify results, strengthening your knowledge of binomial variables, and reviewing initial statistical concepts of the central limit theorem, standard deviation, z-scores, and their accompanying p-values."
   ]
  }
 ],
 "metadata": {
  "kernelspec": {
   "display_name": "Python 3 (ipykernel)",
   "language": "python",
   "name": "python3"
  },
  "language_info": {
   "codemirror_mode": {
    "name": "ipython",
    "version": 3
   },
   "file_extension": ".py",
   "mimetype": "text/x-python",
   "name": "python",
   "nbconvert_exporter": "python",
   "pygments_lexer": "ipython3",
   "version": "3.10.11"
  }
 },
 "nbformat": 4,
 "nbformat_minor": 2
}
>>>>>>> b74a340 (AB testing)
